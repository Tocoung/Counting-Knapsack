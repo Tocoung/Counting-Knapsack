{
 "cells": [
  {
   "cell_type": "code",
   "execution_count": 178,
   "metadata": {},
   "outputs": [],
   "source": [
    "import math\n",
    "import numpy as np\n",
    "import random"
   ]
  },
  {
   "cell_type": "code",
   "execution_count": 179,
   "metadata": {},
   "outputs": [
    {
     "name": "stdout",
     "output_type": "stream",
     "text": [
      "w = [29673, 35537, 41264, 51416, 21325, 41922, 34849, 49468, 41160, 27433, 39710, 37284, 29022, 21107, 45110, 53531, 52765, 30054, 51363, 30858]\n",
      "sum(w) = 764851\n",
      "capacity c = 383546\n"
     ]
    }
   ],
   "source": [
    "n = 20\n",
    "pow2n = 2**n\n",
    "\n",
    "# Randomized target sum in range [0.8 * 2^n, 1.2 * 2^n]\n",
    "target_sum = random.randint(int(0.5 * pow2n), int(1.0 * pow2n))\n",
    "avg_weight = target_sum // n\n",
    "\n",
    "# Generate weights with variation, then scale\n",
    "w = [random.randint(avg_weight//2, avg_weight*3//2) for _ in range(n)]\n",
    "scale = target_sum / sum(w)\n",
    "w = [int(wi * scale) for wi in w]\n",
    "\n",
    "# Final randomized capacity in range [0.8 * sum(w), sum(w)]\n",
    "c = random.randint(int(0.1 * sum(w)), sum(w))\n",
    "\n",
    "print(\"w =\", w)\n",
    "print(\"sum(w) =\", sum(w))\n",
    "print(\"capacity c =\", c)\n",
    "\n"
   ]
  },
  {
   "cell_type": "code",
   "execution_count": 180,
   "metadata": {},
   "outputs": [
    {
     "data": {
      "text/plain": [
       "529516.372078296"
      ]
     },
     "execution_count": 180,
     "metadata": {},
     "output_type": "execute_result"
    }
   ],
   "source": [
    "e=0.01\n",
    "Q=1+e/(n+1)\n",
    "s=math.ceil(n*math.log(2)/math.log(Q))\n",
    "T=np.zeros((n+1,s+1))\n",
    "for j in range(s+1):\n",
    "    T[0][j]=float('inf')\n",
    "T[0][0]=0\n",
    "for i in range(1,n+1):\n",
    "    for j in range(s+1):\n",
    "        l=0\n",
    "        r=j\n",
    "        while(l<r):\n",
    "            mid=(l+r)//2\n",
    "            a=T[i-1][j-mid]\n",
    "            if(mid==0):\n",
    "                b=float('-inf')\n",
    "            elif(math.floor(math.log(1-Q**(-mid))/math.log(Q))+j<0):\n",
    "                b=w[i-1]\n",
    "            else:\n",
    "                b=T[i-1][j+math.floor(math.log(1-Q**(-mid))/math.log(Q))]+w[i-1]\n",
    "            if(a<b):\n",
    "                r=mid\n",
    "            else:\n",
    "                l=mid+1\n",
    "        mid=(l+r)//2\n",
    "        a=T[i-1][j-mid]\n",
    "        if(mid==0):\n",
    "            b=float('-inf')\n",
    "        elif(math.floor(math.log(1-Q**(-mid))/math.log(Q))+j<0):\n",
    "            b=w[i-1]\n",
    "        else:\n",
    "            b=T[i-1][j+math.floor(math.log(1-Q**(-mid))/math.log(Q))]+w[i-1]\n",
    "        p=max(a,b)\n",
    "        q=p\n",
    "        if(mid>0):\n",
    "            mid=mid-1\n",
    "            a=T[i-1][j-mid]\n",
    "            if(mid==0):\n",
    "                b=float('-inf')\n",
    "            elif(math.floor(math.log(1-Q**(-mid))/math.log(Q))+j<0):\n",
    "                b=w[i-1]\n",
    "            else:\n",
    "                b=T[i-1][j+math.floor(math.log(1-Q**(-mid))/math.log(Q))]+w[i-1]\n",
    "            q=max(a,b)\n",
    "        T[i][j]=min(p,q)\n",
    "jj=s+1\n",
    "for i in range(s+1):\n",
    "    if(T[n][i]>c):\n",
    "        jj=i\n",
    "        break\n",
    "ans=Q**jj\n",
    "ans"
   ]
  },
  {
   "cell_type": "code",
   "execution_count": 181,
   "metadata": {},
   "outputs": [
    {
     "name": "stdout",
     "output_type": "stream",
     "text": [
      "Total subsets with weight ≤ 383546: 529582\n"
     ]
    }
   ],
   "source": [
    "def knapsack_dp(n, w, c):\n",
    "    # dp[i] = number of ways to achieve total weight i\n",
    "    dp = [0] * (c + 1)\n",
    "    dp[0] = 1  # One way to achieve 0 weight: pick nothing\n",
    "\n",
    "    for i in range(n):\n",
    "        for j in range(c, w[i] - 1, -1):  # go in reverse to avoid overcounting\n",
    "            dp[j] += dp[j - w[i]]\n",
    "\n",
    "    return dp\n",
    "dp = knapsack_dp(n, w, c)\n",
    "print(f\"Total subsets with weight ≤ {c}: {sum(dp)}\")  "
   ]
  }
 ],
 "metadata": {
  "kernelspec": {
   "display_name": "Python 3",
   "language": "python",
   "name": "python3"
  },
  "language_info": {
   "codemirror_mode": {
    "name": "ipython",
    "version": 3
   },
   "file_extension": ".py",
   "mimetype": "text/x-python",
   "name": "python",
   "nbconvert_exporter": "python",
   "pygments_lexer": "ipython3",
   "version": "3.9.6"
  }
 },
 "nbformat": 4,
 "nbformat_minor": 2
}
