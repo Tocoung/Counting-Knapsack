{
 "cells": [
  {
   "cell_type": "code",
   "execution_count": 213,
   "metadata": {},
   "outputs": [],
   "source": [
    "import math\n",
    "import numpy as np\n",
    "import random"
   ]
  },
  {
   "cell_type": "code",
   "execution_count": 322,
   "metadata": {},
   "outputs": [
    {
     "data": {
      "text/plain": [
       "25704151"
      ]
     },
     "execution_count": 322,
     "metadata": {},
     "output_type": "execute_result"
    }
   ],
   "source": [
    "\n",
    "\n",
    "# n = 25\n",
    "# pow2n = 2**n\n",
    "\n",
    "# target_sum = random.randint(int(0.5 * pow2n), int(0.8 * pow2n))\n",
    "# avg_weight = target_sum // n\n",
    "\n",
    "# # Generate weights with variation, then scale\n",
    "# w = [random.randint(avg_weight//2, avg_weight*3//2) for _ in range(n)]\n",
    "# scale = target_sum / sum(w)\n",
    "# w = [int(wi * scale) for wi in w]\n",
    "\n",
    "# # Final randomized capacity in range [0.8 * sum(w), sum(w)]\n",
    "# c = random.randint(int(0.1 * sum(w)), sum(w))\n",
    "\n",
    "# print(\"w =\", w)\n",
    "# print(\"sum(w) =\", sum(w))\n",
    "# print(\"capacity c =\", c)\n",
    "\n",
    "\n",
    "# n=10\n",
    "\n",
    "# w = [775632, 579580, 1028039, 783312, 812717, 1046522, 836108, 1069444, 748522, 458533, 828390, 433271, 783520, 1153972, 876343, 480813, 1240010, 800516, 506726, 643122, 958132, 562680, 539855, 577646, 749366]\n",
    "# c=13659450\n",
    "# sum(w)\n",
    "w = [954680, 558314, 749902, 1153891, 826372, 1577491, 836709, 1241610, 1329084, 1437693, 933962, 1465195, 1581894, 698383, 1253065, 1470610, 624166, 688840, 575233, 931626, 765974, 830689, 1338827, 702285, 1177656]\n",
    "\n",
    "c = 5210321\n",
    "sum(w)"
   ]
  },
  {
   "cell_type": "code",
   "execution_count": 323,
   "metadata": {},
   "outputs": [
    {
     "data": {
      "text/plain": [
       "61189.245556549555"
      ]
     },
     "execution_count": 323,
     "metadata": {},
     "output_type": "execute_result"
    }
   ],
   "source": [
    "e=0.01\n",
    "Q=1+e/(n+1)\n",
    "s=math.ceil(n*math.log(2)/math.log(Q))\n",
    "T=np.zeros((n+1,s+1))\n",
    "for j in range(s+1):\n",
    "    T[0][j]=float('inf')\n",
    "T[0][0]=0\n",
    "for i in range(1,n+1):\n",
    "    for j in range(s+1):\n",
    "        l=0\n",
    "        r=j\n",
    "        while(l<r):\n",
    "            mid=(l+r)//2\n",
    "            a=T[i-1][j-mid]\n",
    "            if(mid==0):\n",
    "                b=float('-inf')\n",
    "            elif(math.floor(math.log(1-Q**(-mid))/math.log(Q))+j<0):\n",
    "                b=w[i-1]\n",
    "            else:\n",
    "                b=T[i-1][j+math.floor(math.log(1-Q**(-mid))/math.log(Q))]+w[i-1]\n",
    "            if(a<b):\n",
    "                r=mid\n",
    "            else:\n",
    "                l=mid+1\n",
    "        mid=(l+r)//2\n",
    "        a=T[i-1][j-mid]\n",
    "        if(mid==0):\n",
    "            b=float('-inf')\n",
    "        elif(math.floor(math.log(1-Q**(-mid))/math.log(Q))+j<0):\n",
    "            b=w[i-1]\n",
    "        else:\n",
    "            b=T[i-1][j+math.floor(math.log(1-Q**(-mid))/math.log(Q))]+w[i-1]\n",
    "        p=max(a,b)\n",
    "        q=p\n",
    "        if(mid>0):\n",
    "            mid=mid-1\n",
    "            a=T[i-1][j-mid]\n",
    "            if(mid==0):\n",
    "                b=float('-inf')\n",
    "            elif(math.floor(math.log(1-Q**(-mid))/math.log(Q))+j<0):\n",
    "                b=w[i-1]\n",
    "            else:\n",
    "                b=T[i-1][j+math.floor(math.log(1-Q**(-mid))/math.log(Q))]+w[i-1]\n",
    "            q=max(a,b)\n",
    "        r=q\n",
    "        if(mid<j):\n",
    "            mid=mid+1\n",
    "            a=T[i-1][j-mid]\n",
    "            if(mid==0):\n",
    "                b=float('-inf')\n",
    "            elif(math.floor(math.log(1-Q**(-mid))/math.log(Q))+j<0):\n",
    "                b=w[i-1]\n",
    "            else:\n",
    "                b=T[i-1][j+math.floor(math.log(1-Q**(-mid))/math.log(Q))]+w[i-1]\n",
    "            r=max(a,b)\n",
    "        T[i][j]=min(min(p,q),r)\n",
    "jj=s+1\n",
    "for i in range(s+1):\n",
    "    if(T[n][i]>c):\n",
    "        jj=i\n",
    "        break\n",
    "ans=Q**jj\n",
    "np.set_printoptions(threshold=np.inf)\n",
    "#print(T[n])\n",
    "ans"
   ]
  },
  {
   "cell_type": "code",
   "execution_count": 324,
   "metadata": {},
   "outputs": [
    {
     "name": "stdout",
     "output_type": "stream",
     "text": [
      "Total subsets with weight ≤ 5210321: 61287\n"
     ]
    }
   ],
   "source": [
    "def knapsack_dp(n, w, c):\n",
    "    # dp[i] = number of ways to achieve total weight i\n",
    "    dp = [0] * (c + 1)\n",
    "    dp[0] = 1  # One way to achieve 0 weight: pick nothing\n",
    "\n",
    "    for i in range(n):\n",
    "        for j in range(c, w[i] - 1, -1):  # go in reverse to avoid overcounting\n",
    "            dp[j] += dp[j - w[i]]\n",
    "\n",
    "    return dp\n",
    "dp = knapsack_dp(n, w, c)\n",
    "print(f\"Total subsets with weight ≤ {c}: {sum(dp)}\")  "
   ]
  }
 ],
 "metadata": {
  "kernelspec": {
   "display_name": "Python 3",
   "language": "python",
   "name": "python3"
  },
  "language_info": {
   "codemirror_mode": {
    "name": "ipython",
    "version": 3
   },
   "file_extension": ".py",
   "mimetype": "text/x-python",
   "name": "python",
   "nbconvert_exporter": "python",
   "pygments_lexer": "ipython3",
   "version": "3.9.6"
  }
 },
 "nbformat": 4,
 "nbformat_minor": 2
}
