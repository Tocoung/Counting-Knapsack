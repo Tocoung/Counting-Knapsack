{
 "cells": [
  {
   "cell_type": "code",
   "execution_count": 41,
   "metadata": {},
   "outputs": [],
   "source": [
    "import math\n",
    "import numpy as np\n",
    "import random\n",
    "import bisect"
   ]
  },
  {
   "cell_type": "code",
   "execution_count": 63,
   "metadata": {},
   "outputs": [
    {
     "name": "stdout",
     "output_type": "stream",
     "text": [
      "w = [23316, 22668, 24055, 16786, 37170, 18730, 39590, 15577, 35091, 31728, 21162, 30010, 17074, 34069, 15314, 31496, 37493, 23660, 38515, 28754]\n",
      "sum(w) = 542258\n",
      "capacity c = 124998\n"
     ]
    }
   ],
   "source": [
    "n = 20\n",
    "pow2n = 2**n\n",
    "\n",
    "# Randomized target sum in range [0.8 * 2^n, 1.2 * 2^n]\n",
    "target_sum = random.randint(int(0.5 * pow2n), int(1.0 * pow2n))\n",
    "avg_weight = target_sum // n\n",
    "\n",
    "# Generate weights with variation, then scale\n",
    "w = [random.randint(avg_weight//2, avg_weight*3//2) for _ in range(n)]\n",
    "scale = target_sum / sum(w)\n",
    "w = [int(wi * scale) for wi in w]\n",
    "\n",
    "# Final randomized capacity in range [0.8 * sum(w), sum(w)]\n",
    "c = random.randint(int(0.1 * sum(w)), sum(w))\n",
    "\n",
    "print(\"w =\", w)\n",
    "print(\"sum(w) =\", sum(w))\n",
    "print(\"capacity c =\", c)\n"
   ]
  },
  {
   "cell_type": "code",
   "execution_count": 64,
   "metadata": {},
   "outputs": [
    {
     "data": {
      "text/plain": [
       "10007.0"
      ]
     },
     "execution_count": 64,
     "metadata": {},
     "output_type": "execute_result"
    }
   ],
   "source": [
    "e=0.001\n",
    "W=sum(w)+c\n",
    "l=[]\n",
    "l.append((0,1))\n",
    "l.append((c+1,0))\n",
    "keys = [k for k, _ in l]\n",
    "for i in range(n - 1, -1, -1):\n",
    "    ll=[]\n",
    "    keys = [k for k, _ in l]\n",
    "    j=bisect.bisect_right(keys,0)\n",
    "    p1=l[j-1][1]\n",
    "    j=bisect.bisect_right(keys,w[i])\n",
    "    p2=l[j-1][1]\n",
    "    p=(p1+p2)/2\n",
    "    ll.append((0,p))\n",
    "    pp=p/(1+e)\n",
    "    while(pp>0):\n",
    "        left=0\n",
    "        right=W\n",
    "        found=None\n",
    "        while(left<right):\n",
    "            mid=(left+right)//2\n",
    "            j=bisect.bisect_right(keys,mid)\n",
    "            p1=l[j-1][1]\n",
    "            j=bisect.bisect_right(keys,mid+w[i])\n",
    "            p2=l[j-1][1]\n",
    "            p=(p1+p2)/2\n",
    "            if(p>pp):\n",
    "                left=mid+1\n",
    "            else:\n",
    "                found=(mid,p)\n",
    "                right=mid\n",
    "            # print((left,right))\n",
    "        if(found):\n",
    "            ll.append(found)\n",
    "            pp=found[1]/(1+e)\n",
    "        else:\n",
    "            break\n",
    "        #print(pp)\n",
    "        #print(found)\n",
    "    l=ll\n",
    "    # print(l)\n",
    "ans=l[0][1]*2**n\n",
    "ans"
   ]
  },
  {
   "cell_type": "code",
   "execution_count": 65,
   "metadata": {},
   "outputs": [
    {
     "name": "stdout",
     "output_type": "stream",
     "text": [
      "Total subsets with weight ≤ 124998: 10002\n"
     ]
    }
   ],
   "source": [
    "def knapsack_dp(n, w, c):\n",
    "    # dp[i] = number of ways to achieve total weight i\n",
    "    dp = [0] * (c + 1)\n",
    "    dp[0] = 1  # One way to achieve 0 weight: pick nothing\n",
    "\n",
    "    for i in range(n):\n",
    "        for j in range(c, w[i] - 1, -1):  # go in reverse to avoid overcounting\n",
    "            dp[j] += dp[j - w[i]]\n",
    "\n",
    "    return dp\n",
    "dp = knapsack_dp(n, w, c)\n",
    "print(f\"Total subsets with weight ≤ {c}: {sum(dp)}\")  "
   ]
  }
 ],
 "metadata": {
  "kernelspec": {
   "display_name": "Python 3",
   "language": "python",
   "name": "python3"
  },
  "language_info": {
   "codemirror_mode": {
    "name": "ipython",
    "version": 3
   },
   "file_extension": ".py",
   "mimetype": "text/x-python",
   "name": "python",
   "nbconvert_exporter": "python",
   "pygments_lexer": "ipython3",
   "version": "3.9.6"
  }
 },
 "nbformat": 4,
 "nbformat_minor": 2
}
